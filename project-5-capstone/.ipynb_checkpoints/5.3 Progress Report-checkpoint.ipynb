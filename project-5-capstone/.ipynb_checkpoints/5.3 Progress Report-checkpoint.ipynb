{
 "cells": [
  {
   "cell_type": "markdown",
   "metadata": {
    "collapsed": true
   },
   "source": [
    "# 1)  Do you have data fully in hand and if not, what blockers are you facing?"
   ]
  },
  {
   "cell_type": "markdown",
   "metadata": {},
   "source": [
    "I currently have U.S. Census data including all 50 states plus Washington, D.C., estimated total population including broken up by male and female. Now that I have my api key set and understand my way around downloading U.S. Census data, I will be gathering substantially more features by state for use in my predictive models. I have also downloaded a csv file called QuickFacts from the U.S. Census bureau which includes national, but not state, values.\n",
    "\n",
    "I also have all data downloaded for general election results from 1996 to present date from data.world. Cook Political's Partisan Voting Index (PVI) by congressional district, not state.\n",
    "\n",
    "Blockers: I may need to gather more features from other sources that will be aligned by state. Also, if I want to use PVI Index by state, I will need to manually calculate the mean, weighted mean, and median of each state's congressional district values.\n",
    "\n",
    "Producing a feature-robust dataset against 51 rows to produce meaningful models will be critical for successful predictions."
   ]
  },
  {
   "cell_type": "markdown",
   "metadata": {},
   "source": [
    "# 2)  Have you done a full EDA on all of your data?"
   ]
  },
  {
   "cell_type": "markdown",
   "metadata": {},
   "source": [
    "I have not completed a full EDA of all data though in process of executing it as I build my master dataframe for model application."
   ]
  },
  {
   "cell_type": "markdown",
   "metadata": {},
   "source": [
    "# 3)  Have you begun the modeling process? How accurate are your predictions so far?"
   ]
  },
  {
   "cell_type": "markdown",
   "metadata": {},
   "source": [
    "Not yet."
   ]
  },
  {
   "cell_type": "markdown",
   "metadata": {},
   "source": [
    "# 4)  What blockers are you facing, including processing power, data acquisition, modeling difficulties, data cleaning, etc.? How can we help you overcome those challenges?"
   ]
  },
  {
   "cell_type": "markdown",
   "metadata": {},
   "source": [
    "Biggest challenge is accumulating sources and features for predicting U.S. general election results. The good news is that now that I have an api key for U.S. census data, it should not take much more effort for completing the data acquisition process."
   ]
  },
  {
   "cell_type": "markdown",
   "metadata": {},
   "source": [
    "# 5)  Have you changed topics since your lightning talk? Since you submitted your Problem Statement and EDA? If so, do you have the necessary data in hand (and the requisite EDA completed) to continue moving forward?"
   ]
  },
  {
   "cell_type": "markdown",
   "metadata": {},
   "source": [
    "My topic has changed since my lightning talk. It has changed slightly since my Problem Statement and EDA were submitted. Rather than determining which congressional districts in the state of Georgia are vulnerable to flipping from one political party to the other, and whether PVI is an effective index for predicting U.S. general election results, I am now determining whether a certain combination of features, which may or may not include PVI, can best predict U.S. general election results.\n",
    "\n",
    "As I mentioned earlier, I have a lot of necessary data in hand and more forthcoming."
   ]
  },
  {
   "cell_type": "markdown",
   "metadata": {},
   "source": [
    "# 6)  What is your timeline for the next week and a half? What do you have to get done versus what would you like to get done?"
   ]
  },
  {
   "cell_type": "markdown",
   "metadata": {},
   "source": [
    "My timeline is to complete data acquisition and master dataframe construction by late Saturday afternoon and begin modeling on Sunday. Should all go right, I will have modeling completed by Monday, December 11."
   ]
  },
  {
   "cell_type": "markdown",
   "metadata": {},
   "source": [
    "# 7)  What topics do you want to discuss during your 1:1?"
   ]
  },
  {
   "cell_type": "markdown",
   "metadata": {},
   "source": [
    "I would like to discuss skills and software tools I need to learn related to data science that we have not covered in the Immersive program, such as R."
   ]
  },
  {
   "cell_type": "code",
   "execution_count": null,
   "metadata": {
    "collapsed": true
   },
   "outputs": [],
   "source": []
  }
 ],
 "metadata": {
  "kernelspec": {
   "display_name": "Python 3",
   "language": "python",
   "name": "python3"
  },
  "language_info": {
   "codemirror_mode": {
    "name": "ipython",
    "version": 3
   },
   "file_extension": ".py",
   "mimetype": "text/x-python",
   "name": "python",
   "nbconvert_exporter": "python",
   "pygments_lexer": "ipython3",
   "version": "3.6.3"
  }
 },
 "nbformat": 4,
 "nbformat_minor": 2
}
