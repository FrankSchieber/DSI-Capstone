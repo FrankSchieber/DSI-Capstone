{
 "cells": [
  {
   "cell_type": "markdown",
   "metadata": {},
   "source": [
    "# Problem Statement"
   ]
  },
  {
   "cell_type": "markdown",
   "metadata": {},
   "source": [
    "How effective is Cook Political's PVI score in conjunction with Congressional district voting trends for predicting potential U.S. general election outcomes?"
   ]
  },
  {
   "cell_type": "markdown",
   "metadata": {},
   "source": [
    "**Goals and Objectives**"
   ]
  },
  {
   "cell_type": "markdown",
   "metadata": {},
   "source": [
    "1)  Measure predictive accuracy within each general election year starting with 2000 using historical dataset features\n",
    "\n",
    "2)  Apply merged predictive results from each general election year to determine whether 2016 results could be predicted with reasonable accuracy\n",
    "\n",
    "3)  Should 2016 results have been reasonably well predicted with PVI score and voting results, use information to predict possible voting results for the 2020 general election"
   ]
  },
  {
   "cell_type": "markdown",
   "metadata": {},
   "source": [
    "**Success Metrics**"
   ]
  },
  {
   "cell_type": "markdown",
   "metadata": {},
   "source": [
    "1) Accuracy score of 2016 general election results based on historical merged predictive results from previous general election year datasets\n",
    "\n",
    "2) Estimated score error for 2016 general election results\n",
    "\n",
    "3) Should 2016 Accuracy score prove 75% or higher, a prediction dataset should be produced for 2020 results and include accuracy score and score error"
   ]
  },
  {
   "cell_type": "markdown",
   "metadata": {},
   "source": [
    "**Risks and Assumptions**"
   ]
  },
  {
   "cell_type": "markdown",
   "metadata": {},
   "source": [
    "1) Insufficient features within historical datasets for building predictive models\n",
    "\n",
    "2) Population shifts over time and geography may organically impact congressional district size and results\n",
    "\n",
    "3) Gerrymandering may artificially impact congressional district size and results\n",
    "\n",
    "4) Accuracy scores may be too low for applying to 2016 and 2020 predictions"
   ]
  },
  {
   "cell_type": "markdown",
   "metadata": {},
   "source": [
    "**Proposed Methods and Models**"
   ]
  },
  {
   "cell_type": "markdown",
   "metadata": {},
   "source": [
    "1) Train-test-split for each dataset\n",
    "\n",
    "2) Perform linear regression and classification for each dataset\n",
    "\n",
    "3) Use preprocessors and boosters to yield more effective features, i.e. binarizer preprocessor for pvi_prefix\n",
    "\n",
    "4) Visualizations whenever possible for improved dataset and trend examination"
   ]
  },
  {
   "cell_type": "markdown",
   "metadata": {},
   "source": [
    "# EDA"
   ]
  },
  {
   "cell_type": "code",
   "execution_count": 335,
   "metadata": {
    "collapsed": true
   },
   "outputs": [],
   "source": [
    "import pandas as pd\n",
    "import numpy as np\n",
    "import seaborn as sns\n",
    "import matplotlib.pyplot as plt\n",
    "%matplotlib inline\n"
   ]
  },
  {
   "cell_type": "code",
   "execution_count": 301,
   "metadata": {},
   "outputs": [
    {
     "data": {
      "text/plain": [
       "(435, 8)"
      ]
     },
     "execution_count": 301,
     "metadata": {},
     "output_type": "execute_result"
    }
   ],
   "source": [
    "df = pd.read_csv('PVI Data.csv')\n",
    "df.shape"
   ]
  },
  {
   "cell_type": "code",
   "execution_count": 302,
   "metadata": {},
   "outputs": [
    {
     "data": {
      "text/html": [
       "<div>\n",
       "<style>\n",
       "    .dataframe thead tr:only-child th {\n",
       "        text-align: right;\n",
       "    }\n",
       "\n",
       "    .dataframe thead th {\n",
       "        text-align: left;\n",
       "    }\n",
       "\n",
       "    .dataframe tbody tr th {\n",
       "        vertical-align: top;\n",
       "    }\n",
       "</style>\n",
       "<table border=\"1\" class=\"dataframe\">\n",
       "  <thead>\n",
       "    <tr style=\"text-align: right;\">\n",
       "      <th></th>\n",
       "      <th>dist</th>\n",
       "      <th>member</th>\n",
       "      <th>party</th>\n",
       "      <th>pvi</th>\n",
       "      <th>d16</th>\n",
       "      <th>r16</th>\n",
       "      <th>clinton</th>\n",
       "      <th>trump</th>\n",
       "    </tr>\n",
       "  </thead>\n",
       "  <tbody>\n",
       "    <tr>\n",
       "      <th>0</th>\n",
       "      <td>Alabama-01</td>\n",
       "      <td>Bradley Byrne</td>\n",
       "      <td>R</td>\n",
       "      <td>R+15</td>\n",
       "      <td>0.00%</td>\n",
       "      <td>96.40%</td>\n",
       "      <td>33.80%</td>\n",
       "      <td>63.00%</td>\n",
       "    </tr>\n",
       "    <tr>\n",
       "      <th>1</th>\n",
       "      <td>Alabama-02</td>\n",
       "      <td>Martha Roby</td>\n",
       "      <td>R</td>\n",
       "      <td>R+16</td>\n",
       "      <td>40.50%</td>\n",
       "      <td>48.80%</td>\n",
       "      <td>32.80%</td>\n",
       "      <td>64.50%</td>\n",
       "    </tr>\n",
       "    <tr>\n",
       "      <th>2</th>\n",
       "      <td>Alabama-03</td>\n",
       "      <td>Mike Rogers</td>\n",
       "      <td>R</td>\n",
       "      <td>R+16</td>\n",
       "      <td>32.90%</td>\n",
       "      <td>66.90%</td>\n",
       "      <td>31.90%</td>\n",
       "      <td>64.80%</td>\n",
       "    </tr>\n",
       "    <tr>\n",
       "      <th>3</th>\n",
       "      <td>Alabama-04</td>\n",
       "      <td>Robert Aderholt</td>\n",
       "      <td>R</td>\n",
       "      <td>R+30</td>\n",
       "      <td>0.00%</td>\n",
       "      <td>98.50%</td>\n",
       "      <td>17.30%</td>\n",
       "      <td>79.80%</td>\n",
       "    </tr>\n",
       "    <tr>\n",
       "      <th>4</th>\n",
       "      <td>Alabama-05</td>\n",
       "      <td>Mo Brooks</td>\n",
       "      <td>R</td>\n",
       "      <td>R+18</td>\n",
       "      <td>33.20%</td>\n",
       "      <td>66.70%</td>\n",
       "      <td>30.90%</td>\n",
       "      <td>63.70%</td>\n",
       "    </tr>\n",
       "  </tbody>\n",
       "</table>\n",
       "</div>"
      ],
      "text/plain": [
       "         dist           member party   pvi     d16     r16 clinton   trump\n",
       "0  Alabama-01    Bradley Byrne     R  R+15   0.00%  96.40%  33.80%  63.00%\n",
       "1  Alabama-02      Martha Roby     R  R+16  40.50%  48.80%  32.80%  64.50%\n",
       "2  Alabama-03      Mike Rogers     R  R+16  32.90%  66.90%  31.90%  64.80%\n",
       "3  Alabama-04  Robert Aderholt     R  R+30   0.00%  98.50%  17.30%  79.80%\n",
       "4  Alabama-05        Mo Brooks     R  R+18  33.20%  66.70%  30.90%  63.70%"
      ]
     },
     "execution_count": 302,
     "metadata": {},
     "output_type": "execute_result"
    }
   ],
   "source": [
    "df.head()"
   ]
  },
  {
   "cell_type": "code",
   "execution_count": 303,
   "metadata": {},
   "outputs": [
    {
     "data": {
      "text/plain": [
       "dist       object\n",
       "member     object\n",
       "party      object\n",
       "pvi        object\n",
       "d16        object\n",
       "r16        object\n",
       "clinton    object\n",
       "trump      object\n",
       "dtype: object"
      ]
     },
     "execution_count": 303,
     "metadata": {},
     "output_type": "execute_result"
    }
   ],
   "source": [
    "df.dtypes"
   ]
  },
  {
   "cell_type": "code",
   "execution_count": 304,
   "metadata": {},
   "outputs": [],
   "source": [
    "df['d16'] = pd.to_numeric(df['d16'].str.replace('%', ''))\n",
    "df['r16'] = pd.to_numeric(df['r16'].str.replace('%', ''))\n",
    "df['clinton'] = pd.to_numeric(df['clinton'].str.replace('%', ''))\n",
    "df['trump'] = pd.to_numeric(df['trump'].str.replace('%', ''))"
   ]
  },
  {
   "cell_type": "code",
   "execution_count": 305,
   "metadata": {},
   "outputs": [
    {
     "data": {
      "text/html": [
       "<div>\n",
       "<style>\n",
       "    .dataframe thead tr:only-child th {\n",
       "        text-align: right;\n",
       "    }\n",
       "\n",
       "    .dataframe thead th {\n",
       "        text-align: left;\n",
       "    }\n",
       "\n",
       "    .dataframe tbody tr th {\n",
       "        vertical-align: top;\n",
       "    }\n",
       "</style>\n",
       "<table border=\"1\" class=\"dataframe\">\n",
       "  <thead>\n",
       "    <tr style=\"text-align: right;\">\n",
       "      <th></th>\n",
       "      <th>dist</th>\n",
       "      <th>member</th>\n",
       "      <th>party</th>\n",
       "      <th>pvi</th>\n",
       "      <th>d16</th>\n",
       "      <th>r16</th>\n",
       "      <th>clinton</th>\n",
       "      <th>trump</th>\n",
       "    </tr>\n",
       "  </thead>\n",
       "  <tbody>\n",
       "    <tr>\n",
       "      <th>0</th>\n",
       "      <td>Alabama-01</td>\n",
       "      <td>Bradley Byrne</td>\n",
       "      <td>R</td>\n",
       "      <td>R+15</td>\n",
       "      <td>0.0</td>\n",
       "      <td>96.4</td>\n",
       "      <td>33.8</td>\n",
       "      <td>63.0</td>\n",
       "    </tr>\n",
       "    <tr>\n",
       "      <th>1</th>\n",
       "      <td>Alabama-02</td>\n",
       "      <td>Martha Roby</td>\n",
       "      <td>R</td>\n",
       "      <td>R+16</td>\n",
       "      <td>40.5</td>\n",
       "      <td>48.8</td>\n",
       "      <td>32.8</td>\n",
       "      <td>64.5</td>\n",
       "    </tr>\n",
       "    <tr>\n",
       "      <th>2</th>\n",
       "      <td>Alabama-03</td>\n",
       "      <td>Mike Rogers</td>\n",
       "      <td>R</td>\n",
       "      <td>R+16</td>\n",
       "      <td>32.9</td>\n",
       "      <td>66.9</td>\n",
       "      <td>31.9</td>\n",
       "      <td>64.8</td>\n",
       "    </tr>\n",
       "    <tr>\n",
       "      <th>3</th>\n",
       "      <td>Alabama-04</td>\n",
       "      <td>Robert Aderholt</td>\n",
       "      <td>R</td>\n",
       "      <td>R+30</td>\n",
       "      <td>0.0</td>\n",
       "      <td>98.5</td>\n",
       "      <td>17.3</td>\n",
       "      <td>79.8</td>\n",
       "    </tr>\n",
       "    <tr>\n",
       "      <th>4</th>\n",
       "      <td>Alabama-05</td>\n",
       "      <td>Mo Brooks</td>\n",
       "      <td>R</td>\n",
       "      <td>R+18</td>\n",
       "      <td>33.2</td>\n",
       "      <td>66.7</td>\n",
       "      <td>30.9</td>\n",
       "      <td>63.7</td>\n",
       "    </tr>\n",
       "  </tbody>\n",
       "</table>\n",
       "</div>"
      ],
      "text/plain": [
       "         dist           member party   pvi   d16   r16  clinton  trump\n",
       "0  Alabama-01    Bradley Byrne     R  R+15   0.0  96.4     33.8   63.0\n",
       "1  Alabama-02      Martha Roby     R  R+16  40.5  48.8     32.8   64.5\n",
       "2  Alabama-03      Mike Rogers     R  R+16  32.9  66.9     31.9   64.8\n",
       "3  Alabama-04  Robert Aderholt     R  R+30   0.0  98.5     17.3   79.8\n",
       "4  Alabama-05        Mo Brooks     R  R+18  33.2  66.7     30.9   63.7"
      ]
     },
     "execution_count": 305,
     "metadata": {},
     "output_type": "execute_result"
    }
   ],
   "source": [
    "df.head()"
   ]
  },
  {
   "cell_type": "code",
   "execution_count": 306,
   "metadata": {},
   "outputs": [
    {
     "data": {
      "text/plain": [
       "dist        object\n",
       "member      object\n",
       "party       object\n",
       "pvi         object\n",
       "d16        float64\n",
       "r16        float64\n",
       "clinton    float64\n",
       "trump      float64\n",
       "dtype: object"
      ]
     },
     "execution_count": 306,
     "metadata": {},
     "output_type": "execute_result"
    }
   ],
   "source": [
    "df.dtypes"
   ]
  },
  {
   "cell_type": "code",
   "execution_count": 307,
   "metadata": {},
   "outputs": [],
   "source": [
    "df['pvi'] = df['pvi'].astype(str)"
   ]
  },
  {
   "cell_type": "code",
   "execution_count": 308,
   "metadata": {},
   "outputs": [
    {
     "data": {
      "text/plain": [
       "dist        object\n",
       "member      object\n",
       "party       object\n",
       "pvi         object\n",
       "d16        float64\n",
       "r16        float64\n",
       "clinton    float64\n",
       "trump      float64\n",
       "dtype: object"
      ]
     },
     "execution_count": 308,
     "metadata": {},
     "output_type": "execute_result"
    }
   ],
   "source": [
    "df.dtypes"
   ]
  },
  {
   "cell_type": "code",
   "execution_count": 309,
   "metadata": {},
   "outputs": [],
   "source": [
    "df['pvi_prefix'] = df['pvi'].apply(lambda x: x.split('+')[0])\n",
    "df['pvi_score'] = df['pvi'].apply(lambda x: x.split('+')[-1])"
   ]
  },
  {
   "cell_type": "code",
   "execution_count": 310,
   "metadata": {},
   "outputs": [
    {
     "data": {
      "text/plain": [
       "dist           object\n",
       "member         object\n",
       "party          object\n",
       "pvi            object\n",
       "d16           float64\n",
       "r16           float64\n",
       "clinton       float64\n",
       "trump         float64\n",
       "pvi_prefix     object\n",
       "pvi_score      object\n",
       "dtype: object"
      ]
     },
     "execution_count": 310,
     "metadata": {},
     "output_type": "execute_result"
    }
   ],
   "source": [
    "df.dtypes"
   ]
  },
  {
   "cell_type": "code",
   "execution_count": 311,
   "metadata": {},
   "outputs": [
    {
     "data": {
      "text/plain": [
       "0        15\n",
       "1        16\n",
       "2        16\n",
       "3        30\n",
       "4        18\n",
       "5        26\n",
       "6        20\n",
       "7         9\n",
       "8         2\n",
       "9         1\n",
       "10       13\n",
       "11       21\n",
       "12       15\n",
       "13        9\n",
       "14       23\n",
       "15       13\n",
       "16        4\n",
       "17       17\n",
       "18        7\n",
       "19       19\n",
       "20       17\n",
       "21       11\n",
       "22       22\n",
       "23        5\n",
       "24       10\n",
       "25       21\n",
       "26       21\n",
       "27        3\n",
       "28        9\n",
       "29        8\n",
       "       ... \n",
       "405      10\n",
       "406       6\n",
       "407      13\n",
       "408       6\n",
       "409      21\n",
       "410      19\n",
       "411       1\n",
       "412      15\n",
       "413       6\n",
       "414      10\n",
       "415       4\n",
       "416      13\n",
       "417       8\n",
       "418       6\n",
       "419      33\n",
       "420    EVEN\n",
       "421      21\n",
       "422       5\n",
       "423      19\n",
       "424      17\n",
       "425      23\n",
       "426       5\n",
       "427      18\n",
       "428    EVEN\n",
       "429      25\n",
       "430      13\n",
       "431       8\n",
       "432       8\n",
       "433       7\n",
       "434      25\n",
       "Name: pvi_score, Length: 435, dtype: object"
      ]
     },
     "execution_count": 311,
     "metadata": {},
     "output_type": "execute_result"
    }
   ],
   "source": [
    "df['pvi_score']"
   ]
  },
  {
   "cell_type": "code",
   "execution_count": 312,
   "metadata": {},
   "outputs": [],
   "source": [
    "df['pvi_score'].replace(to_replace=dict(EVEN=1), inplace=True)"
   ]
  },
  {
   "cell_type": "code",
   "execution_count": 313,
   "metadata": {},
   "outputs": [
    {
     "data": {
      "text/plain": [
       "0      15\n",
       "1      16\n",
       "2      16\n",
       "3      30\n",
       "4      18\n",
       "5      26\n",
       "6      20\n",
       "7       9\n",
       "8       2\n",
       "9       1\n",
       "10     13\n",
       "11     21\n",
       "12     15\n",
       "13      9\n",
       "14     23\n",
       "15     13\n",
       "16      4\n",
       "17     17\n",
       "18      7\n",
       "19     19\n",
       "20     17\n",
       "21     11\n",
       "22     22\n",
       "23      5\n",
       "24     10\n",
       "25     21\n",
       "26     21\n",
       "27      3\n",
       "28      9\n",
       "29      8\n",
       "       ..\n",
       "405    10\n",
       "406     6\n",
       "407    13\n",
       "408     6\n",
       "409    21\n",
       "410    19\n",
       "411     1\n",
       "412    15\n",
       "413     6\n",
       "414    10\n",
       "415     4\n",
       "416    13\n",
       "417     8\n",
       "418     6\n",
       "419    33\n",
       "420     1\n",
       "421    21\n",
       "422     5\n",
       "423    19\n",
       "424    17\n",
       "425    23\n",
       "426     5\n",
       "427    18\n",
       "428     1\n",
       "429    25\n",
       "430    13\n",
       "431     8\n",
       "432     8\n",
       "433     7\n",
       "434    25\n",
       "Name: pvi_score, Length: 435, dtype: object"
      ]
     },
     "execution_count": 313,
     "metadata": {},
     "output_type": "execute_result"
    }
   ],
   "source": [
    "df['pvi_score']"
   ]
  },
  {
   "cell_type": "code",
   "execution_count": 314,
   "metadata": {},
   "outputs": [],
   "source": [
    "df['pvi_score'] = df['pvi_score'].astype(int)"
   ]
  },
  {
   "cell_type": "code",
   "execution_count": 315,
   "metadata": {},
   "outputs": [
    {
     "data": {
      "text/html": [
       "<div>\n",
       "<style>\n",
       "    .dataframe thead tr:only-child th {\n",
       "        text-align: right;\n",
       "    }\n",
       "\n",
       "    .dataframe thead th {\n",
       "        text-align: left;\n",
       "    }\n",
       "\n",
       "    .dataframe tbody tr th {\n",
       "        vertical-align: top;\n",
       "    }\n",
       "</style>\n",
       "<table border=\"1\" class=\"dataframe\">\n",
       "  <thead>\n",
       "    <tr style=\"text-align: right;\">\n",
       "      <th></th>\n",
       "      <th>dist</th>\n",
       "      <th>member</th>\n",
       "      <th>party</th>\n",
       "      <th>pvi</th>\n",
       "      <th>d16</th>\n",
       "      <th>r16</th>\n",
       "      <th>clinton</th>\n",
       "      <th>trump</th>\n",
       "      <th>pvi_prefix</th>\n",
       "      <th>pvi_score</th>\n",
       "    </tr>\n",
       "  </thead>\n",
       "  <tbody>\n",
       "    <tr>\n",
       "      <th>0</th>\n",
       "      <td>Alabama-01</td>\n",
       "      <td>Bradley Byrne</td>\n",
       "      <td>R</td>\n",
       "      <td>R+15</td>\n",
       "      <td>0.0</td>\n",
       "      <td>96.4</td>\n",
       "      <td>33.8</td>\n",
       "      <td>63.0</td>\n",
       "      <td>R</td>\n",
       "      <td>15</td>\n",
       "    </tr>\n",
       "    <tr>\n",
       "      <th>1</th>\n",
       "      <td>Alabama-02</td>\n",
       "      <td>Martha Roby</td>\n",
       "      <td>R</td>\n",
       "      <td>R+16</td>\n",
       "      <td>40.5</td>\n",
       "      <td>48.8</td>\n",
       "      <td>32.8</td>\n",
       "      <td>64.5</td>\n",
       "      <td>R</td>\n",
       "      <td>16</td>\n",
       "    </tr>\n",
       "    <tr>\n",
       "      <th>2</th>\n",
       "      <td>Alabama-03</td>\n",
       "      <td>Mike Rogers</td>\n",
       "      <td>R</td>\n",
       "      <td>R+16</td>\n",
       "      <td>32.9</td>\n",
       "      <td>66.9</td>\n",
       "      <td>31.9</td>\n",
       "      <td>64.8</td>\n",
       "      <td>R</td>\n",
       "      <td>16</td>\n",
       "    </tr>\n",
       "    <tr>\n",
       "      <th>3</th>\n",
       "      <td>Alabama-04</td>\n",
       "      <td>Robert Aderholt</td>\n",
       "      <td>R</td>\n",
       "      <td>R+30</td>\n",
       "      <td>0.0</td>\n",
       "      <td>98.5</td>\n",
       "      <td>17.3</td>\n",
       "      <td>79.8</td>\n",
       "      <td>R</td>\n",
       "      <td>30</td>\n",
       "    </tr>\n",
       "    <tr>\n",
       "      <th>4</th>\n",
       "      <td>Alabama-05</td>\n",
       "      <td>Mo Brooks</td>\n",
       "      <td>R</td>\n",
       "      <td>R+18</td>\n",
       "      <td>33.2</td>\n",
       "      <td>66.7</td>\n",
       "      <td>30.9</td>\n",
       "      <td>63.7</td>\n",
       "      <td>R</td>\n",
       "      <td>18</td>\n",
       "    </tr>\n",
       "  </tbody>\n",
       "</table>\n",
       "</div>"
      ],
      "text/plain": [
       "         dist           member party   pvi   d16   r16  clinton  trump  \\\n",
       "0  Alabama-01    Bradley Byrne     R  R+15   0.0  96.4     33.8   63.0   \n",
       "1  Alabama-02      Martha Roby     R  R+16  40.5  48.8     32.8   64.5   \n",
       "2  Alabama-03      Mike Rogers     R  R+16  32.9  66.9     31.9   64.8   \n",
       "3  Alabama-04  Robert Aderholt     R  R+30   0.0  98.5     17.3   79.8   \n",
       "4  Alabama-05        Mo Brooks     R  R+18  33.2  66.7     30.9   63.7   \n",
       "\n",
       "  pvi_prefix  pvi_score  \n",
       "0          R         15  \n",
       "1          R         16  \n",
       "2          R         16  \n",
       "3          R         30  \n",
       "4          R         18  "
      ]
     },
     "execution_count": 315,
     "metadata": {},
     "output_type": "execute_result"
    }
   ],
   "source": [
    "df.head()"
   ]
  },
  {
   "cell_type": "code",
   "execution_count": 316,
   "metadata": {},
   "outputs": [
    {
     "data": {
      "text/plain": [
       "dist           object\n",
       "member         object\n",
       "party          object\n",
       "pvi            object\n",
       "d16           float64\n",
       "r16           float64\n",
       "clinton       float64\n",
       "trump         float64\n",
       "pvi_prefix     object\n",
       "pvi_score       int32\n",
       "dtype: object"
      ]
     },
     "execution_count": 316,
     "metadata": {},
     "output_type": "execute_result"
    }
   ],
   "source": [
    "df.dtypes"
   ]
  },
  {
   "cell_type": "code",
   "execution_count": 352,
   "metadata": {},
   "outputs": [
    {
     "data": {
      "text/plain": [
       "<matplotlib.axes._subplots.AxesSubplot at 0x2a90e1f8a90>"
      ]
     },
     "execution_count": 352,
     "metadata": {},
     "output_type": "execute_result"
    },
    {
     "data": {
      "image/png": "[encoded data removed]",
      "text/plain": [
       "<matplotlib.figure.Figure at 0x2a90e22bf98>"
      ]
     },
     "metadata": {},
     "output_type": "display_data"
    }
   ],
   "source": [
    "fig, ax = plt.subplots(figsize=(5, 5))\n",
    "sns.heatmap(df[['d16', 'r16', 'clinton', 'trump']].corr())"
   ]
  },
  {
   "cell_type": "code",
   "execution_count": 354,
   "metadata": {},
   "outputs": [
    {
     "data": {
      "text/plain": [
       "<seaborn.axisgrid.PairGrid at 0x2a91152f3c8>"
      ]
     },
     "execution_count": 354,
     "metadata": {},
     "output_type": "execute_result"
    },
    {
     "data": {
      "image/png": "[encoded data removed]",
      "text/plain": [
       "<matplotlib.figure.Figure at 0x2a91152f6d8>"
      ]
     },
     "metadata": {},
     "output_type": "display_data"
    }
   ],
   "source": [
    "sns.pairplot(df[['d16', 'r16', 'clinton', 'trump']])"
   ]
  },
  {
   "cell_type": "code",
   "execution_count": 318,
   "metadata": {},
   "outputs": [
    {
     "data": {
      "text/plain": [
       "(435, 3)"
      ]
     },
     "execution_count": 318,
     "metadata": {},
     "output_type": "execute_result"
    }
   ],
   "source": [
    "df9800 = pd.read_csv('Cook Historical PVI 98-00.csv')\n",
    "df9800.shape"
   ]
  },
  {
   "cell_type": "code",
   "execution_count": 319,
   "metadata": {},
   "outputs": [
    {
     "data": {
      "text/plain": [
       "(435, 3)"
      ]
     },
     "execution_count": 319,
     "metadata": {},
     "output_type": "execute_result"
    }
   ],
   "source": [
    "df02 = pd.read_csv('Cook Historical PVI 02.csv')\n",
    "df02.shape"
   ]
  },
  {
   "cell_type": "code",
   "execution_count": 320,
   "metadata": {},
   "outputs": [
    {
     "data": {
      "text/plain": [
       "(435, 3)"
      ]
     },
     "execution_count": 320,
     "metadata": {},
     "output_type": "execute_result"
    }
   ],
   "source": [
    "df04 = pd.read_csv('Cook Historical PVI 04.csv')\n",
    "df04.shape"
   ]
  },
  {
   "cell_type": "code",
   "execution_count": 321,
   "metadata": {},
   "outputs": [
    {
     "data": {
      "text/plain": [
       "(435, 8)"
      ]
     },
     "execution_count": 321,
     "metadata": {},
     "output_type": "execute_result"
    }
   ],
   "source": [
    "df0608 = pd.read_csv('Cook Historical PVI 06-08.csv')\n",
    "df0608.shape"
   ]
  },
  {
   "cell_type": "code",
   "execution_count": 322,
   "metadata": {},
   "outputs": [
    {
     "data": {
      "text/plain": [
       "State          object\n",
       "District        int64\n",
       "PVI            object\n",
       "Unnamed: 3    float64\n",
       "Unnamed: 4    float64\n",
       "Unnamed: 5    float64\n",
       "Unnamed: 6    float64\n",
       "Unnamed: 7    float64\n",
       "dtype: object"
      ]
     },
     "execution_count": 322,
     "metadata": {},
     "output_type": "execute_result"
    }
   ],
   "source": [
    "df0608.dtypes"
   ]
  },
  {
   "cell_type": "code",
   "execution_count": 323,
   "metadata": {},
   "outputs": [
    {
     "data": {
      "text/plain": [
       "(435, 3)"
      ]
     },
     "execution_count": 323,
     "metadata": {},
     "output_type": "execute_result"
    }
   ],
   "source": [
    "df0608 = df0608[['State', 'District', 'PVI']]\n",
    "df0608.shape"
   ]
  },
  {
   "cell_type": "code",
   "execution_count": 324,
   "metadata": {},
   "outputs": [
    {
     "data": {
      "text/plain": [
       "(435, 6)"
      ]
     },
     "execution_count": 324,
     "metadata": {},
     "output_type": "execute_result"
    }
   ],
   "source": [
    "df10 = pd.read_csv('Cook Historical PVI 10.csv')\n",
    "df10.shape"
   ]
  },
  {
   "cell_type": "code",
   "execution_count": 325,
   "metadata": {},
   "outputs": [
    {
     "data": {
      "text/plain": [
       "State          object\n",
       "District        int64\n",
       "PVI            object\n",
       "Unnamed: 3    float64\n",
       "Unnamed: 4    float64\n",
       "Unnamed: 5    float64\n",
       "dtype: object"
      ]
     },
     "execution_count": 325,
     "metadata": {},
     "output_type": "execute_result"
    }
   ],
   "source": [
    "df10.dtypes"
   ]
  },
  {
   "cell_type": "code",
   "execution_count": 326,
   "metadata": {},
   "outputs": [
    {
     "data": {
      "text/plain": [
       "(435, 3)"
      ]
     },
     "execution_count": 326,
     "metadata": {},
     "output_type": "execute_result"
    }
   ],
   "source": [
    "df10 = df10[['State', 'District', 'PVI']]\n",
    "df10.shape"
   ]
  },
  {
   "cell_type": "code",
   "execution_count": 327,
   "metadata": {},
   "outputs": [
    {
     "data": {
      "text/plain": [
       "(435, 3)"
      ]
     },
     "execution_count": 327,
     "metadata": {},
     "output_type": "execute_result"
    }
   ],
   "source": [
    "df12 = pd.read_csv('Cook Historical PVI 12.csv')\n",
    "df12.shape"
   ]
  },
  {
   "cell_type": "code",
   "execution_count": 328,
   "metadata": {},
   "outputs": [
    {
     "data": {
      "text/plain": [
       "(435, 3)"
      ]
     },
     "execution_count": 328,
     "metadata": {},
     "output_type": "execute_result"
    }
   ],
   "source": [
    "df14 = pd.read_csv('Cook Historical PVI 14.csv')\n",
    "df14.shape"
   ]
  },
  {
   "cell_type": "markdown",
   "metadata": {},
   "source": [
    "**Process Summary**"
   ]
  },
  {
   "cell_type": "markdown",
   "metadata": {},
   "source": [
    "1) Collect additional features for historical datasets\n",
    "\n",
    "2) Determine whether I have enough features and data values to perform a strong, valid prediction in a train-test-split\n",
    "\n",
    "3) Run EDA on all historical datasets when sufficient features have been collected\n",
    "\n",
    "4) Run predictive models, including using preprocessing and boosting for model optimization, on 2016 and historical datasets\n",
    "\n",
    "5) Merge historical predictors to produce a final predictive model for 2016 general election dataset\n",
    "\n",
    "6) Predict 2020 general election results if 2016 predictors are above 75% accuracy"
   ]
  },
  {
   "cell_type": "code",
   "execution_count": null,
   "metadata": {
    "collapsed": true
   },
   "outputs": [],
   "source": []
  },
  {
   "cell_type": "markdown",
   "metadata": {},
   "source": [
    "### ### END"
   ]
  }
 ],
 "metadata": {
  "kernelspec": {
   "display_name": "Python 3",
   "language": "python",
   "name": "python3"
  },
  "language_info": {
   "codemirror_mode": {
    "name": "ipython",
    "version": 3
   },
   "file_extension": ".py",
   "mimetype": "text/x-python",
   "name": "python",
   "nbconvert_exporter": "python",
   "pygments_lexer": "ipython3",
   "version": "3.6.3"
  }
 },
 "nbformat": 4,
 "nbformat_minor": 2
}
